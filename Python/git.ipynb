{
 "cells": [
  {
   "cell_type": "markdown",
   "metadata": {},
   "source": [
    "```bash\n",
    "Branch  Operations\t\n",
    "    \n",
    "    \n",
    "git branch\tget the list of branches\n",
    "git branch -a\tto see all banches including remote ones\n",
    "git checkout -b <branch_name>\tcreate & switched to branch\n",
    "    \n",
    "    \n",
    "    \n",
    "    \n",
    "Merging\t\n",
    "    \n",
    "git pull origin <branch_name>\tPull remote changes & merge them to local branch\n",
    "    \n",
    "To check if a remote branch is ahead (or behind) your local branch, follow these steps:\t\n",
    "$ git fetch origin\t\n",
    "$ git status\t\n",
    "```"
   ]
  },
  {
   "cell_type": "code",
   "execution_count": null,
   "metadata": {
    "vscode": {
     "languageId": "plaintext"
    }
   },
   "outputs": [],
   "source": [
    "# Hosting services: who provides hosting facility: github, gitlab (to store the files on cloud)\n",
    "# Local Repo: Local machine\n",
    "# Remote Repo: the repo present on clouds such as github, githublab"
   ]
  },
  {
   "cell_type": "code",
   "execution_count": null,
   "metadata": {
    "vscode": {
     "languageId": "plaintext"
    }
   },
   "outputs": [],
   "source": [
    "# Staging Area: Draft space\n",
    "# where you can add, remove files\n"
   ]
  },
  {
   "cell_type": "markdown",
   "metadata": {},
   "source": [
    "# commit"
   ]
  },
  {
   "cell_type": "code",
   "execution_count": null,
   "metadata": {
    "vscode": {
     "languageId": "plaintext"
    }
   },
   "outputs": [],
   "source": [
    "#Commit: 1 version of project\n",
    "#commit generate the unique HASH ID (40characters) for each commit\n",
    "# commit history: git log"
   ]
  },
  {
   "cell_type": "code",
   "execution_count": null,
   "metadata": {
    "vscode": {
     "languageId": "plaintext"
    }
   },
   "outputs": [],
   "source": []
  }
 ],
 "metadata": {
  "language_info": {
   "name": "python"
  }
 },
 "nbformat": 4,
 "nbformat_minor": 2
}
